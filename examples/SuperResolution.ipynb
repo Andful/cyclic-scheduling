{
 "cells": [
  {
   "cell_type": "code",
   "execution_count": 1,
   "id": "3a833c69",
   "metadata": {},
   "outputs": [],
   "source": [
    "from zigzag.classes.stages import *\n",
    "from stream.classes.stages import *\n",
    "from stream.visualization.schedule import (\n",
    "    plot_timeline_brokenaxes,\n",
    ")\n",
    "from stream.visualization.memory_usage import plot_memory_usage\n",
    "from stream.inputs.examples.hardware.cores.TPU_like import get_core as get_tpu_core\n",
    "from stream.inputs.examples.hardware.cores.offchip import get_offchip_core\n",
    "from stream.inputs.examples.hardware.nocs.mesh_2d import get_2d_mesh\n",
    "from zigzag.classes.hardware.architecture.accelerator import Accelerator\n",
    "from zigzag.classes.stages.Stage import Stage\n",
    "import pickle\n",
    "\n",
    "node_performances = None\n",
    "class GetNodeHwPerformances(Stage):\n",
    "    def __init__(self, list_of_callables, *args, node_hw_performances, **kwargs):\n",
    "        super().__init__(list_of_callables, node_hw_performances=node_hw_performances, **kwargs)\n",
    "        global node_performances\n",
    "        node_performances = node_hw_performances\n",
    "        \n",
    "    def run(self):\n",
    "        substage = self.list_of_callables[0](self.list_of_callables[1:], **self.kwargs)\n",
    "        for cme, extra_info in substage.run():\n",
    "            yield cme, extra_info\n"
   ]
  },
  {
   "cell_type": "code",
   "execution_count": null,
   "id": "af86e0ca",
   "metadata": {
    "scrolled": false
   },
   "outputs": [],
   "source": [
    "mainstage = MainStage(\n",
    "    [  # Initializes the MainStage as entry point\n",
    "        AcceleratorParserStage,  # Parses the accelerator\n",
    "        StreamONNXModelParserStage,  # Parses the ONNX Model into the workload\n",
    "        # UserDefinedModelParserStage,  # Parses the user-defined Model into the workload\n",
    "        GenerateCNWorkloadHybridStage,\n",
    "        IntraCoreMappingStage,\n",
    "        GetNodeHwPerformances,\n",
    "        InterCoreMappingStage,\n",
    "    ],\n",
    "    accelerator=\"architecture.tpu_like_dual_core\",  # required by AcceleratorParserStage\n",
    "    workload_path=\"./problems/fsrcnn.onnx\",  # required by ModelParserStage\n",
    "    mapping_path=\"mapping.super_resolution_mapping\",  # required by ModelParserStage\n",
    "    loma_lpf_limit=6,  # required by LomaStage\n",
    "    nb_ga_individuals=2,  # number of individuals in each genetic algorithm generation\n",
    "    nb_ga_generations=1,  # number of genetic algorithm generations\n",
    "    node_hw_performances_path=\"./core-layer-mapping.pickle\",  # saved node_hw_performances to skip re-computation\n",
    "    plot_hof=False,  # Save schedule and memory usage plot of each individual in the Genetic Algorithm hall of fame\n",
    "    plot_file_name=\"plot\",\n",
    "    plot_full_schedule=False,\n",
    "    plot_data_transfer=False,\n",
    "    cn_define_mode=1,\n",
    "    hint_loops=[(\"OX\", \"all\")],\n",
    "    scheduler_candidate_selection=\"memory\",\n",
    "    operands_to_prefetch=[],\n",
    ")\n",
    "\n",
    "[scme, *_], _ = mainstage.run()\n",
    "\n",
    "plot_timeline_brokenaxes(\n",
    "    scme,\n",
    "    False,\n",
    "    section_start_percent=(0,),\n",
    "    percent_shown=(0.3,),\n",
    "    plot_data_transfer=True,\n",
    "    fig_path=\"/tmp/timeline\",\n",
    ")\n",
    "\n",
    "plot_memory_usage(scme, (0,), (0.3,), fig_path=\"/tmp/memory\")"
   ]
  },
  {
   "cell_type": "code",
   "execution_count": null,
   "id": "b6560280",
   "metadata": {},
   "outputs": [],
   "source": [
    "mainstage = MainStage(\n",
    "    [  # Initializes the MainStage as entry point\n",
    "        AcceleratorParserStage,  # Parses the accelerator\n",
    "        StreamONNXModelParserStage,  # Parses the ONNX Model into the workload\n",
    "        # UserDefinedModelParserStage,  # Parses the user-defined Model into the workload\n",
    "        GenerateCNWorkloadHybridStage,\n",
    "        IntraCoreMappingStage,\n",
    "        GetNodeHwPerformances,\n",
    "        InterCoreMappingStage,\n",
    "    ],\n",
    "    accelerator=\"architecture.tpu_like_dual_core\",  # required by AcceleratorParserStage\n",
    "    workload_path=\"./problems/fsrcnn.onnx\",  # required by ModelParserStage\n",
    "    mapping_path=\"mapping.super_resolution_mapping\",  # required by ModelParserStage\n",
    "    loma_lpf_limit=6,  # required by LomaStage\n",
    "    nb_ga_individuals=2,  # number of individuals in each genetic algorithm generation\n",
    "    nb_ga_generations=1,  # number of genetic algorithm generations\n",
    "    node_hw_performances_path=\"./core-layer-mapping.pickle\",  # saved node_hw_performances to skip re-computation\n",
    "    plot_hof=False,  # Save schedule and memory usage plot of each individual in the Genetic Algorithm hall of fame\n",
    "    plot_file_name=\"plot\",\n",
    "    plot_full_schedule=False,\n",
    "    plot_data_transfer=False,\n",
    "    cn_define_mode=1,\n",
    "    hint_loops=[(\"OX\", \"all\")],\n",
    "    scheduler_candidate_selection=\"latency\",\n",
    "    operands_to_prefetch=[],\n",
    ")\n",
    "\n",
    "[scme, *_], _ = mainstage.run()\n",
    "\n",
    "plot_timeline_brokenaxes(\n",
    "    scme,\n",
    "    False,\n",
    "    section_start_percent=(0,50),\n",
    "    percent_shown=(3,3),\n",
    "    plot_data_transfer=True,\n",
    "    fig_path=\"/tmp/timeline\",\n",
    ")\n",
    "\n",
    "plot_memory_usage(scme, (0,), (3,), fig_path=\"/tmp/memory\")"
   ]
  },
  {
   "cell_type": "code",
   "execution_count": null,
   "id": "d442d9f5",
   "metadata": {},
   "outputs": [],
   "source": [
    "for k, item in node_performances.items():\n",
    "    print(f\"Layer {k.id[0]}\")\n",
    "    for op in k.operand_tensors.keys():\n",
    "        tensor = k.operand_tensors[op]\n",
    "        operand_precision = k.operand_precision[op]\n",
    "        print(f\"\\t{op}: size={tensor.size} operand-size={operand_precision} loops= {','.join(map(lambda x: f'{x[0]}:[{x[1][0]}..{x[1][1]})', zip(tensor.loop_dimensions, tensor.loop_ranges)))}\")\n",
    "    print(\"\\n\\t\\tLatency\\tEnergy\")\n",
    "    for core, cme in item.items():\n",
    "        print(f\"\\tCore {core.id}:\\t{cme.latency_total1}\\t{cme.energy_total}\")\n",
    "    print()"
   ]
  },
  {
   "cell_type": "code",
   "execution_count": null,
   "id": "1c2c2198",
   "metadata": {},
   "outputs": [],
   "source": [
    "import graphviz\n",
    "from architecture.tpu_like_dual_core import cores_graph\n",
    "\n",
    "dot = graphviz.Digraph()\n",
    "for core in cores_graph.nodes():\n",
    "    dot.node(str(core.id), f\"Core {core.id}\" if core.id != 2 else \"DRAM\")\n",
    "\n",
    "for (source, target, channel) in cores_graph.edges.data():\n",
    "    dot.edge(str(source.id), str(target.id), label=f\"bw={channel['cl'].bandwidth}\")\n",
    "    \n",
    "dot"
   ]
  },
  {
   "cell_type": "code",
   "execution_count": 2,
   "id": "ec5583f4",
   "metadata": {
    "scrolled": false
   },
   "outputs": [
    {
     "data": {
      "image/svg+xml": [
       "<?xml version=\"1.0\" encoding=\"UTF-8\" standalone=\"no\"?>\n",
       "<!DOCTYPE svg PUBLIC \"-//W3C//DTD SVG 1.1//EN\"\n",
       " \"http://www.w3.org/Graphics/SVG/1.1/DTD/svg11.dtd\">\n",
       "<!-- Generated by graphviz version 2.43.0 (0)\n",
       " -->\n",
       "<!-- Title: %3 Pages: 1 -->\n",
       "<svg width=\"79pt\" height=\"1528pt\"\n",
       " viewBox=\"0.00 0.00 78.71 1528.10\" xmlns=\"http://www.w3.org/2000/svg\" xmlns:xlink=\"http://www.w3.org/1999/xlink\">\n",
       "<g id=\"graph0\" class=\"graph\" transform=\"scale(1 1) rotate(0) translate(4 1524.1)\">\n",
       "<title>%3</title>\n",
       "<polygon fill=\"white\" stroke=\"transparent\" points=\"-4,4 -4,-1524.1 74.71,-1524.1 74.71,4 -4,4\"/>\n",
       "<!-- 0 -->\n",
       "<g id=\"node1\" class=\"node\">\n",
       "<title>0</title>\n",
       "<ellipse fill=\"none\" stroke=\"black\" cx=\"35.36\" cy=\"-1493.23\" rx=\"27\" ry=\"26.74\"/>\n",
       "<text text-anchor=\"middle\" x=\"35.36\" y=\"-1497.03\" font-family=\"Times,serif\" font-size=\"14.00\">lᵢ</text>\n",
       "<text text-anchor=\"middle\" x=\"35.36\" y=\"-1482.03\" font-family=\"Times,serif\" font-size=\"14.00\">340</text>\n",
       "</g>\n",
       "<!-- 1 -->\n",
       "<g id=\"node2\" class=\"node\">\n",
       "<title>1</title>\n",
       "<ellipse fill=\"none\" stroke=\"black\" cx=\"35.36\" cy=\"-1388.49\" rx=\"35.21\" ry=\"26.74\"/>\n",
       "<text text-anchor=\"middle\" x=\"35.36\" y=\"-1392.29\" font-family=\"Times,serif\" font-size=\"14.00\">c₀</text>\n",
       "<text text-anchor=\"middle\" x=\"35.36\" y=\"-1377.29\" font-family=\"Times,serif\" font-size=\"14.00\">27050</text>\n",
       "</g>\n",
       "<!-- 0&#45;&gt;1 -->\n",
       "<g id=\"edge1\" class=\"edge\">\n",
       "<title>0&#45;&gt;1</title>\n",
       "<path fill=\"none\" stroke=\"black\" d=\"M35.36,-1466.31C35.36,-1454.02 35.36,-1439.13 35.36,-1425.74\"/>\n",
       "<polygon fill=\"black\" stroke=\"black\" points=\"38.86,-1425.41 35.36,-1415.41 31.86,-1425.41 38.86,-1425.41\"/>\n",
       "<text text-anchor=\"middle\" x=\"38.86\" y=\"-1437.16\" font-family=\"Times,serif\" font-size=\"14.00\">0</text>\n",
       "</g>\n",
       "<!-- 2 -->\n",
       "<g id=\"node3\" class=\"node\">\n",
       "<title>2</title>\n",
       "<ellipse fill=\"none\" stroke=\"black\" cx=\"35.36\" cy=\"-1283.75\" rx=\"31.23\" ry=\"26.74\"/>\n",
       "<text text-anchor=\"middle\" x=\"35.36\" y=\"-1287.55\" font-family=\"Times,serif\" font-size=\"14.00\">t₀₁</text>\n",
       "<text text-anchor=\"middle\" x=\"35.36\" y=\"-1272.55\" font-family=\"Times,serif\" font-size=\"14.00\">3780</text>\n",
       "</g>\n",
       "<!-- 1&#45;&gt;2 -->\n",
       "<g id=\"edge2\" class=\"edge\">\n",
       "<title>1&#45;&gt;2</title>\n",
       "<path fill=\"none\" stroke=\"black\" d=\"M35.36,-1361.57C35.36,-1349.28 35.36,-1334.39 35.36,-1321\"/>\n",
       "<polygon fill=\"black\" stroke=\"black\" points=\"38.86,-1320.67 35.36,-1310.67 31.86,-1320.67 38.86,-1320.67\"/>\n",
       "<text text-anchor=\"middle\" x=\"38.86\" y=\"-1332.42\" font-family=\"Times,serif\" font-size=\"14.00\">0</text>\n",
       "</g>\n",
       "<!-- 3 -->\n",
       "<g id=\"node4\" class=\"node\">\n",
       "<title>3</title>\n",
       "<ellipse fill=\"none\" stroke=\"black\" cx=\"35.36\" cy=\"-1179.01\" rx=\"31.23\" ry=\"26.74\"/>\n",
       "<text text-anchor=\"middle\" x=\"35.36\" y=\"-1182.81\" font-family=\"Times,serif\" font-size=\"14.00\">c₁</text>\n",
       "<text text-anchor=\"middle\" x=\"35.36\" y=\"-1167.81\" font-family=\"Times,serif\" font-size=\"14.00\">1317</text>\n",
       "</g>\n",
       "<!-- 2&#45;&gt;3 -->\n",
       "<g id=\"edge3\" class=\"edge\">\n",
       "<title>2&#45;&gt;3</title>\n",
       "<path fill=\"none\" stroke=\"black\" d=\"M35.36,-1256.83C35.36,-1244.54 35.36,-1229.65 35.36,-1216.26\"/>\n",
       "<polygon fill=\"black\" stroke=\"black\" points=\"38.86,-1215.93 35.36,-1205.93 31.86,-1215.93 38.86,-1215.93\"/>\n",
       "<text text-anchor=\"middle\" x=\"38.86\" y=\"-1227.68\" font-family=\"Times,serif\" font-size=\"14.00\">0</text>\n",
       "</g>\n",
       "<!-- 4 -->\n",
       "<g id=\"node5\" class=\"node\">\n",
       "<title>4</title>\n",
       "<ellipse fill=\"none\" stroke=\"black\" cx=\"35.36\" cy=\"-1074.27\" rx=\"27\" ry=\"26.74\"/>\n",
       "<text text-anchor=\"middle\" x=\"35.36\" y=\"-1078.07\" font-family=\"Times,serif\" font-size=\"14.00\">t₁₂</text>\n",
       "<text text-anchor=\"middle\" x=\"35.36\" y=\"-1063.07\" font-family=\"Times,serif\" font-size=\"14.00\">810</text>\n",
       "</g>\n",
       "<!-- 3&#45;&gt;4 -->\n",
       "<g id=\"edge4\" class=\"edge\">\n",
       "<title>3&#45;&gt;4</title>\n",
       "<path fill=\"none\" stroke=\"black\" d=\"M35.36,-1152.09C35.36,-1139.8 35.36,-1124.91 35.36,-1111.52\"/>\n",
       "<polygon fill=\"black\" stroke=\"black\" points=\"38.86,-1111.19 35.36,-1101.19 31.86,-1111.19 38.86,-1111.19\"/>\n",
       "<text text-anchor=\"middle\" x=\"38.86\" y=\"-1122.94\" font-family=\"Times,serif\" font-size=\"14.00\">0</text>\n",
       "</g>\n",
       "<!-- 5 -->\n",
       "<g id=\"node6\" class=\"node\">\n",
       "<title>5</title>\n",
       "<ellipse fill=\"none\" stroke=\"black\" cx=\"35.36\" cy=\"-969.53\" rx=\"31.23\" ry=\"26.74\"/>\n",
       "<text text-anchor=\"middle\" x=\"35.36\" y=\"-973.33\" font-family=\"Times,serif\" font-size=\"14.00\">c₂</text>\n",
       "<text text-anchor=\"middle\" x=\"35.36\" y=\"-958.33\" font-family=\"Times,serif\" font-size=\"14.00\">5012</text>\n",
       "</g>\n",
       "<!-- 4&#45;&gt;5 -->\n",
       "<g id=\"edge5\" class=\"edge\">\n",
       "<title>4&#45;&gt;5</title>\n",
       "<path fill=\"none\" stroke=\"black\" d=\"M35.36,-1047.35C35.36,-1035.06 35.36,-1020.17 35.36,-1006.78\"/>\n",
       "<polygon fill=\"black\" stroke=\"black\" points=\"38.86,-1006.45 35.36,-996.45 31.86,-1006.45 38.86,-1006.45\"/>\n",
       "<text text-anchor=\"middle\" x=\"41.36\" y=\"-1018.2\" font-family=\"Times,serif\" font-size=\"14.00\">&#45;1</text>\n",
       "</g>\n",
       "<!-- 6 -->\n",
       "<g id=\"node7\" class=\"node\">\n",
       "<title>6</title>\n",
       "<ellipse fill=\"none\" stroke=\"black\" cx=\"35.36\" cy=\"-864.79\" rx=\"27\" ry=\"26.74\"/>\n",
       "<text text-anchor=\"middle\" x=\"35.36\" y=\"-868.59\" font-family=\"Times,serif\" font-size=\"14.00\">t₂₃</text>\n",
       "<text text-anchor=\"middle\" x=\"35.36\" y=\"-853.59\" font-family=\"Times,serif\" font-size=\"14.00\">810</text>\n",
       "</g>\n",
       "<!-- 5&#45;&gt;6 -->\n",
       "<g id=\"edge6\" class=\"edge\">\n",
       "<title>5&#45;&gt;6</title>\n",
       "<path fill=\"none\" stroke=\"black\" d=\"M35.36,-942.61C35.36,-930.32 35.36,-915.43 35.36,-902.04\"/>\n",
       "<polygon fill=\"black\" stroke=\"black\" points=\"38.86,-901.71 35.36,-891.71 31.86,-901.71 38.86,-901.71\"/>\n",
       "<text text-anchor=\"middle\" x=\"38.86\" y=\"-913.46\" font-family=\"Times,serif\" font-size=\"14.00\">0</text>\n",
       "</g>\n",
       "<!-- 7 -->\n",
       "<g id=\"node8\" class=\"node\">\n",
       "<title>7</title>\n",
       "<ellipse fill=\"none\" stroke=\"black\" cx=\"35.36\" cy=\"-760.05\" rx=\"31.23\" ry=\"26.74\"/>\n",
       "<text text-anchor=\"middle\" x=\"35.36\" y=\"-763.85\" font-family=\"Times,serif\" font-size=\"14.00\">c₃</text>\n",
       "<text text-anchor=\"middle\" x=\"35.36\" y=\"-748.85\" font-family=\"Times,serif\" font-size=\"14.00\">5012</text>\n",
       "</g>\n",
       "<!-- 6&#45;&gt;7 -->\n",
       "<g id=\"edge7\" class=\"edge\">\n",
       "<title>6&#45;&gt;7</title>\n",
       "<path fill=\"none\" stroke=\"black\" d=\"M35.36,-837.87C35.36,-825.58 35.36,-810.69 35.36,-797.3\"/>\n",
       "<polygon fill=\"black\" stroke=\"black\" points=\"38.86,-796.97 35.36,-786.97 31.86,-796.97 38.86,-796.97\"/>\n",
       "<text text-anchor=\"middle\" x=\"41.36\" y=\"-808.72\" font-family=\"Times,serif\" font-size=\"14.00\">&#45;1</text>\n",
       "</g>\n",
       "<!-- 8 -->\n",
       "<g id=\"node9\" class=\"node\">\n",
       "<title>8</title>\n",
       "<ellipse fill=\"none\" stroke=\"black\" cx=\"35.36\" cy=\"-655.31\" rx=\"31.23\" ry=\"26.74\"/>\n",
       "<text text-anchor=\"middle\" x=\"35.36\" y=\"-659.11\" font-family=\"Times,serif\" font-size=\"14.00\">c₄</text>\n",
       "<text text-anchor=\"middle\" x=\"35.36\" y=\"-644.11\" font-family=\"Times,serif\" font-size=\"14.00\">7312</text>\n",
       "</g>\n",
       "<!-- 7&#45;&gt;8 -->\n",
       "<g id=\"edge8\" class=\"edge\">\n",
       "<title>7&#45;&gt;8</title>\n",
       "<path fill=\"none\" stroke=\"black\" d=\"M35.36,-733.13C35.36,-720.84 35.36,-705.95 35.36,-692.56\"/>\n",
       "<polygon fill=\"black\" stroke=\"black\" points=\"38.86,-692.23 35.36,-682.23 31.86,-692.23 38.86,-692.23\"/>\n",
       "<text text-anchor=\"middle\" x=\"41.36\" y=\"-703.98\" font-family=\"Times,serif\" font-size=\"14.00\">&#45;1</text>\n",
       "</g>\n",
       "<!-- 9 -->\n",
       "<g id=\"node10\" class=\"node\">\n",
       "<title>9</title>\n",
       "<ellipse fill=\"none\" stroke=\"black\" cx=\"35.36\" cy=\"-550.57\" rx=\"31.23\" ry=\"26.74\"/>\n",
       "<text text-anchor=\"middle\" x=\"35.36\" y=\"-554.37\" font-family=\"Times,serif\" font-size=\"14.00\">c₅</text>\n",
       "<text text-anchor=\"middle\" x=\"35.36\" y=\"-539.37\" font-family=\"Times,serif\" font-size=\"14.00\">5012</text>\n",
       "</g>\n",
       "<!-- 8&#45;&gt;9 -->\n",
       "<g id=\"edge9\" class=\"edge\">\n",
       "<title>8&#45;&gt;9</title>\n",
       "<path fill=\"none\" stroke=\"black\" d=\"M35.36,-628.39C35.36,-616.1 35.36,-601.21 35.36,-587.82\"/>\n",
       "<polygon fill=\"black\" stroke=\"black\" points=\"38.86,-587.49 35.36,-577.49 31.86,-587.49 38.86,-587.49\"/>\n",
       "<text text-anchor=\"middle\" x=\"41.36\" y=\"-599.24\" font-family=\"Times,serif\" font-size=\"14.00\">&#45;1</text>\n",
       "</g>\n",
       "<!-- 10 -->\n",
       "<g id=\"node11\" class=\"node\">\n",
       "<title>10</title>\n",
       "<ellipse fill=\"none\" stroke=\"black\" cx=\"35.36\" cy=\"-445.83\" rx=\"27\" ry=\"26.74\"/>\n",
       "<text text-anchor=\"middle\" x=\"35.36\" y=\"-449.63\" font-family=\"Times,serif\" font-size=\"14.00\">t₅₆</text>\n",
       "<text text-anchor=\"middle\" x=\"35.36\" y=\"-434.63\" font-family=\"Times,serif\" font-size=\"14.00\">810</text>\n",
       "</g>\n",
       "<!-- 9&#45;&gt;10 -->\n",
       "<g id=\"edge10\" class=\"edge\">\n",
       "<title>9&#45;&gt;10</title>\n",
       "<path fill=\"none\" stroke=\"black\" d=\"M35.36,-523.64C35.36,-511.36 35.36,-496.47 35.36,-483.08\"/>\n",
       "<polygon fill=\"black\" stroke=\"black\" points=\"38.86,-482.75 35.36,-472.75 31.86,-482.75 38.86,-482.75\"/>\n",
       "<text text-anchor=\"middle\" x=\"38.86\" y=\"-494.5\" font-family=\"Times,serif\" font-size=\"14.00\">0</text>\n",
       "</g>\n",
       "<!-- 11 -->\n",
       "<g id=\"node12\" class=\"node\">\n",
       "<title>11</title>\n",
       "<ellipse fill=\"none\" stroke=\"black\" cx=\"35.36\" cy=\"-341.09\" rx=\"31.23\" ry=\"26.74\"/>\n",
       "<text text-anchor=\"middle\" x=\"35.36\" y=\"-344.89\" font-family=\"Times,serif\" font-size=\"14.00\">c₆</text>\n",
       "<text text-anchor=\"middle\" x=\"35.36\" y=\"-329.89\" font-family=\"Times,serif\" font-size=\"14.00\">1131</text>\n",
       "</g>\n",
       "<!-- 10&#45;&gt;11 -->\n",
       "<g id=\"edge11\" class=\"edge\">\n",
       "<title>10&#45;&gt;11</title>\n",
       "<path fill=\"none\" stroke=\"black\" d=\"M35.36,-418.9C35.36,-406.62 35.36,-391.73 35.36,-378.34\"/>\n",
       "<polygon fill=\"black\" stroke=\"black\" points=\"38.86,-378.01 35.36,-368.01 31.86,-378.01 38.86,-378.01\"/>\n",
       "<text text-anchor=\"middle\" x=\"38.86\" y=\"-389.76\" font-family=\"Times,serif\" font-size=\"14.00\">0</text>\n",
       "</g>\n",
       "<!-- 12 -->\n",
       "<g id=\"node13\" class=\"node\">\n",
       "<title>12</title>\n",
       "<ellipse fill=\"none\" stroke=\"black\" cx=\"35.36\" cy=\"-236.35\" rx=\"31.23\" ry=\"26.74\"/>\n",
       "<text text-anchor=\"middle\" x=\"35.36\" y=\"-240.15\" font-family=\"Times,serif\" font-size=\"14.00\">t₆₇</text>\n",
       "<text text-anchor=\"middle\" x=\"35.36\" y=\"-225.15\" font-family=\"Times,serif\" font-size=\"14.00\">3780</text>\n",
       "</g>\n",
       "<!-- 11&#45;&gt;12 -->\n",
       "<g id=\"edge12\" class=\"edge\">\n",
       "<title>11&#45;&gt;12</title>\n",
       "<path fill=\"none\" stroke=\"black\" d=\"M35.36,-314.16C35.36,-301.88 35.36,-286.99 35.36,-273.6\"/>\n",
       "<polygon fill=\"black\" stroke=\"black\" points=\"38.86,-273.27 35.36,-263.27 31.86,-273.27 38.86,-273.27\"/>\n",
       "<text text-anchor=\"middle\" x=\"38.86\" y=\"-285.02\" font-family=\"Times,serif\" font-size=\"14.00\">0</text>\n",
       "</g>\n",
       "<!-- 13 -->\n",
       "<g id=\"node14\" class=\"node\">\n",
       "<title>13</title>\n",
       "<ellipse fill=\"none\" stroke=\"black\" cx=\"35.36\" cy=\"-131.61\" rx=\"31.23\" ry=\"26.74\"/>\n",
       "<text text-anchor=\"middle\" x=\"35.36\" y=\"-135.41\" font-family=\"Times,serif\" font-size=\"14.00\">c₇</text>\n",
       "<text text-anchor=\"middle\" x=\"35.36\" y=\"-120.41\" font-family=\"Times,serif\" font-size=\"14.00\">9783</text>\n",
       "</g>\n",
       "<!-- 12&#45;&gt;13 -->\n",
       "<g id=\"edge13\" class=\"edge\">\n",
       "<title>12&#45;&gt;13</title>\n",
       "<path fill=\"none\" stroke=\"black\" d=\"M35.36,-209.42C35.36,-197.14 35.36,-182.25 35.36,-168.86\"/>\n",
       "<polygon fill=\"black\" stroke=\"black\" points=\"38.86,-168.53 35.36,-158.53 31.86,-168.53 38.86,-168.53\"/>\n",
       "<text text-anchor=\"middle\" x=\"41.36\" y=\"-180.28\" font-family=\"Times,serif\" font-size=\"14.00\">&#45;1</text>\n",
       "</g>\n",
       "<!-- 14 -->\n",
       "<g id=\"node15\" class=\"node\">\n",
       "<title>14</title>\n",
       "<ellipse fill=\"none\" stroke=\"black\" cx=\"35.36\" cy=\"-26.87\" rx=\"31.23\" ry=\"26.74\"/>\n",
       "<text text-anchor=\"middle\" x=\"35.36\" y=\"-30.67\" font-family=\"Times,serif\" font-size=\"14.00\">sₒ</text>\n",
       "<text text-anchor=\"middle\" x=\"35.36\" y=\"-15.67\" font-family=\"Times,serif\" font-size=\"14.00\">1080</text>\n",
       "</g>\n",
       "<!-- 13&#45;&gt;14 -->\n",
       "<g id=\"edge14\" class=\"edge\">\n",
       "<title>13&#45;&gt;14</title>\n",
       "<path fill=\"none\" stroke=\"black\" d=\"M35.36,-104.68C35.36,-92.4 35.36,-77.51 35.36,-64.12\"/>\n",
       "<polygon fill=\"black\" stroke=\"black\" points=\"38.86,-63.79 35.36,-53.79 31.86,-63.79 38.86,-63.79\"/>\n",
       "<text text-anchor=\"middle\" x=\"38.86\" y=\"-75.54\" font-family=\"Times,serif\" font-size=\"14.00\">0</text>\n",
       "</g>\n",
       "</g>\n",
       "</svg>\n"
      ],
      "text/plain": [
       "CyclicSchedulingProblem(actors=[Actor(name='lᵢ', execution_time=340, processor='DRAM <-> Any', color='#8000ff'), Actor(name='c₀', execution_time=27050, processor='Core 0', color='#8000ff'), Actor(name='t₀₁', execution_time=3780, processor='Core 0 -> Core 1', color='#8000ff'), Actor(name='c₁', execution_time=1317, processor='Core 1', color='#376bf5'), Actor(name='t₁₂', execution_time=810, processor='Core 1 -> Core 0', color='#376bf5'), Actor(name='c₂', execution_time=5012, processor='Core 0', color='#12c6e3'), Actor(name='t₂₃', execution_time=810, processor='Core 0 -> Core 1', color='#12c6e3'), Actor(name='c₃', execution_time=5012, processor='Core 1', color='#5bf9c9'), Actor(name='c₄', execution_time=7312, processor='Core 1', color='#a2f69d'), Actor(name='c₅', execution_time=5012, processor='Core 1', color='#eac66e'), Actor(name='t₅₆', execution_time=810, processor='Core 1 -> Core 0', color='#eac66e'), Actor(name='c₆', execution_time=1131, processor='Core 0', color='#fc6c37'), Actor(name='t₆₇', execution_time=3780, processor='Core 0 -> Core 1', color='#fc6c37'), Actor(name='c₇', execution_time=9783, processor='Core 1', color='#fd0000'), Actor(name='sₒ', execution_time=1080, processor='DRAM <-> Any', color='#fd0000')], channels=[Channel(source=0, target=1, initial_tokens=0, additional=False), Channel(source=1, target=2, initial_tokens=0, additional=False), Channel(source=2, target=3, initial_tokens=0, additional=False), Channel(source=3, target=4, initial_tokens=0, additional=False), Channel(source=4, target=5, initial_tokens=-1, additional=False), Channel(source=5, target=6, initial_tokens=0, additional=False), Channel(source=6, target=7, initial_tokens=-1, additional=False), Channel(source=7, target=8, initial_tokens=-1, additional=False), Channel(source=8, target=9, initial_tokens=-1, additional=False), Channel(source=9, target=10, initial_tokens=0, additional=False), Channel(source=10, target=11, initial_tokens=0, additional=False), Channel(source=11, target=12, initial_tokens=0, additional=False), Channel(source=12, target=13, initial_tokens=-1, additional=False), Channel(source=13, target=14, initial_tokens=0, additional=False)], processors=OrderedDict([('Core 0', [1, 5, 11]), ('Core 1', [3, 7, 8, 9, 13]), ('Core 0 -> Core 1', [2, 6, 12]), ('DRAM <-> Any', [0, 14]), ('Core 1 -> Core 0', [4, 10])]))"
      ]
     },
     "execution_count": 2,
     "metadata": {},
     "output_type": "execute_result"
    }
   ],
   "source": [
    "from cyclic_scheduling import CyclicSchedulingProblem\n",
    "from math import ceil\n",
    "\n",
    "problem = CyclicSchedulingProblem()\n",
    "\n",
    "problem.add_processor('Core 0')\n",
    "problem.add_processor('Core 1')\n",
    "problem.add_processor('Core 0 -> Core 1')\n",
    "problem.add_processor('DRAM <-> Any')\n",
    "problem.add_processor('Core 1 -> Core 0')\n",
    "\n",
    "problem.add_actor('lᵢ', ceil(21760/64), 'DRAM <-> Any', '#8000ff') # Loading of input \n",
    "problem.add_actor('c₀', 27050, 'Core 0', '#8000ff') # Layer 0\n",
    "problem.add_actor('t₀₁', ceil(241920/64), 'Core 0 -> Core 1', '#8000ff') # Transfer from Core 0 to Core 1\n",
    "problem.add_actor('c₁', 1317, 'Core 1', '#376bf5') # Layer 1\n",
    "problem.add_actor('t₁₂', ceil(51840/64), 'Core 1 -> Core 0', '#376bf5')\n",
    "problem.add_actor('c₂', 5012, 'Core 0', '#12c6e3') # Layer 2 \n",
    "problem.add_actor('t₂₃', ceil(51840/64), 'Core 0 -> Core 1', '#12c6e3')\n",
    "problem.add_actor('c₃', 5012, 'Core 1', '#5bf9c9') # Layer 3 \n",
    "problem.add_actor('c₄', 7312, 'Core 1', '#a2f69d') # Layer 4 \n",
    "problem.add_actor('c₅', 5012, 'Core 1', '#eac66e') # Layer 5\n",
    "problem.add_actor('t₅₆', ceil(51840/64), 'Core 1 -> Core 0', '#eac66e')\n",
    "problem.add_actor('c₆', 1131, 'Core 0', '#fc6c37') # Layer 6\n",
    "problem.add_actor('t₆₇', ceil(241920/64), 'Core 0 -> Core 1', '#fc6c37')\n",
    "problem.add_actor('c₇', 9783, 'Core 1', '#fd0000') # Layer 7 \n",
    "problem.add_actor('sₒ', ceil(69120/64), 'DRAM <-> Any', '#fd0000') # Store of output\n",
    "\n",
    "\n",
    "problem.add_channel('lᵢ', 'c₀')\n",
    "problem.add_channel('c₀', 't₀₁')\n",
    "problem.add_channel('t₀₁', 'c₁')\n",
    "problem.add_channel('c₁', 't₁₂')\n",
    "problem.add_channel('t₁₂', 'c₂', -1)\n",
    "problem.add_channel('c₂', 't₂₃')\n",
    "problem.add_channel('t₂₃', 'c₃', -1)\n",
    "problem.add_channel('c₃', 'c₄', -1)\n",
    "problem.add_channel('c₄', 'c₅', -1)\n",
    "problem.add_channel('c₅', 't₅₆')\n",
    "problem.add_channel('t₅₆', 'c₆')\n",
    "problem.add_channel('c₆', 't₆₇')\n",
    "problem.add_channel('t₆₇', 'c₇', -1)\n",
    "problem.add_channel('c₇', 'sₒ')\n",
    "problem"
   ]
  },
  {
   "cell_type": "code",
   "execution_count": 3,
   "id": "e1ee2307",
   "metadata": {},
   "outputs": [
    {
     "name": "stdout",
     "output_type": "stream",
     "text": [
      "Set parameter Username\n",
      "Academic license - for non-commercial use only - expires 2024-07-23\n"
     ]
    },
    {
     "data": {
      "text/plain": [
       "0.00984177274099784"
      ]
     },
     "execution_count": 3,
     "metadata": {},
     "output_type": "execute_result"
    }
   ],
   "source": [
    "import timeit\n",
    "\n",
    "timeit.timeit(lambda: problem.solve(), number=1000)/1000"
   ]
  },
  {
   "cell_type": "code",
   "execution_count": 4,
   "id": "6bd7ceaa",
   "metadata": {},
   "outputs": [
    {
     "data": {
      "application/vnd.jupyter.widget-view+json": {
       "model_id": "85f171c5d9824ddcbe033e196bd5c038",
       "version_major": 2,
       "version_minor": 0
      },
      "text/plain": [
       "CyclicSchedulingPlot(data='{\"problem\": {\"actors\": [{\"name\": \"l\\\\u1d62\", \"execution_time\": 340, \"processor\": \"D…"
      ]
     },
     "execution_count": 4,
     "metadata": {},
     "output_type": "execute_result"
    }
   ],
   "source": [
    "solution = problem.solve()\n",
    "solution.plot_with_processors()"
   ]
  },
  {
   "cell_type": "code",
   "execution_count": null,
   "id": "82f5a242",
   "metadata": {
    "scrolled": false
   },
   "outputs": [],
   "source": [
    "problem.mip_formulation()"
   ]
  },
  {
   "cell_type": "code",
   "execution_count": 5,
   "id": "075df974",
   "metadata": {},
   "outputs": [],
   "source": [
    "import numpy as np\n",
    "\n",
    "sol = solution.solution(relaxed=True)\n",
    "cycle_time = sol.cycle_time\n",
    "start_time = np.array(sol.t)\n",
    "end_time = start_time + np.fromiter(map(lambda a: a.execution_time, problem.actors), int)"
   ]
  },
  {
   "cell_type": "code",
   "execution_count": null,
   "id": "8d587b4d",
   "metadata": {},
   "outputs": [],
   "source": [
    "cycle_time"
   ]
  },
  {
   "cell_type": "code",
   "execution_count": null,
   "id": "4ff481a8",
   "metadata": {},
   "outputs": [],
   "source": [
    "start_time"
   ]
  },
  {
   "cell_type": "code",
   "execution_count": null,
   "id": "7689f2b7",
   "metadata": {},
   "outputs": [],
   "source": [
    "end_time"
   ]
  },
  {
   "cell_type": "code",
   "execution_count": 6,
   "id": "44421756",
   "metadata": {},
   "outputs": [],
   "source": [
    "memory_cost = np.array([\n",
    "    # start core 0, end core 0, start core 1, end core 1\n",
    "    [ 21760,      0,      0,      0], # Load Layer 0 I Tensor (DRAM <-> Any)\n",
    "    [0, -21760,      0,      0], # Layer 0 (Core 0)\n",
    "    [     0,-0, 0,      0], # Transfer Layer 0 -> Layer 1 (Core 0 -> Core 1)\n",
    "    [     0,      0,  0,-0], # Layer 1 (Core 1)\n",
    "    [ 0,      0,      0, -0], # Transfer Layer 1 -> Layer 2 (Core 1 -> Core 0)\n",
    "    [ 0,  -0,     0,      0], # Layer 2 (Core 0)\n",
    "    [     0,  -0, 0,      0], # Transfer Layer 2 -> Layer 3 (Core 0 -> Core 1)\n",
    "    [     0,       0, 0, -0], # Layer 3 (Core 1)\n",
    "    [     0,       0, 0, -0], # Layer 4 (Core 1)\n",
    "    [     0,       0, 0, -0], # Layer 5 (Core 1)\n",
    "    [ 0,       0,     0, -0], # Transfer Layer 5 -> Layer 6 (Core 1 -> Core 0)\n",
    "    [0,  -0,     0,      0], # Layer 6 (Core 0)\n",
    "    [     0, -0,0,      0], # Transfer Layer 6 -> Layer 7 (Core 0 -> Core 1)\n",
    "    [     0,       0, 0,-0], # Layer 7 (Core 1)\n",
    "    [     0,       0,     0, -0]  # Store Layer 7 O Tensor (DRAM <-> Any)\n",
    "])"
   ]
  },
  {
   "cell_type": "code",
   "execution_count": 7,
   "id": "e34a6f3e",
   "metadata": {},
   "outputs": [],
   "source": [
    "core0_start, core0_end, core1_start, core1_end = memory_cost.T"
   ]
  },
  {
   "cell_type": "code",
   "execution_count": 8,
   "id": "2884beb2",
   "metadata": {},
   "outputs": [],
   "source": [
    "from math import ceil\n",
    "sample = lambda sample_time, first_fire_time, cost: np.sum(cost*np.maximum(np.ceil((sample_time - first_fire_time)/cycle_time), 0))"
   ]
  },
  {
   "cell_type": "code",
   "execution_count": 9,
   "id": "9343861d",
   "metadata": {},
   "outputs": [],
   "source": [
    "sample_core0 = np.vectorize(lambda t: sample(t, start_time, core0_start) + sample(t, end_time, core0_end))\n",
    "sample_core1 = np.vectorize(lambda t: sample(t, start_time, core1_start) + sample(t, end_time, core1_end))"
   ]
  },
  {
   "cell_type": "code",
   "execution_count": 10,
   "id": "57f9ff75",
   "metadata": {},
   "outputs": [],
   "source": [
    "def get_change_points(events, cycle_time, end_time):\n",
    "    from math import ceil\n",
    "    from heapq import heapify, heappop, heappush\n",
    "    events = list(events)\n",
    "    heapify(events)\n",
    "    while True:\n",
    "        t = heappop(events)\n",
    "        if t > end_time:\n",
    "            break\n",
    "        yield t\n",
    "        heappush(events, t + cycle_time)"
   ]
  },
  {
   "cell_type": "code",
   "execution_count": 11,
   "id": "548f61bc",
   "metadata": {},
   "outputs": [],
   "source": [
    "sample_times =  np.fromiter(get_change_points(list(start_time) + list(end_time), cycle_time, 400000), int)"
   ]
  },
  {
   "cell_type": "code",
   "execution_count": 12,
   "id": "ce4d0a75",
   "metadata": {},
   "outputs": [
    {
     "data": {
      "text/plain": [
       "Text(0, 2.65625, '2.65625 kB')"
      ]
     },
     "execution_count": 12,
     "metadata": {},
     "output_type": "execute_result"
    },
    {
     "data": {
      "image/png": "[encoded data removed]",
      "text/plain": [
       "<Figure size 1850x350 with 1 Axes>"
      ]
     },
     "metadata": {},
     "output_type": "display_data"
    }
   ],
   "source": [
    "import matplotlib.pyplot as plt\n",
    "\n",
    "fig = plt.gcf()\n",
    "fig.set_size_inches(18.5, 3.5)\n",
    "plt.title(\"core 0 memory\")\n",
    "plt.xlabel(\"clock cycle\")\n",
    "plt.ylabel(\"kB\")\n",
    "y = sample_core0(sample_times)/(8*1024)\n",
    "plt.step(sample_times, y)\n",
    "max_y = np.max(y)\n",
    "plt.axhline(y=max_y, color='r', linestyle='--')\n",
    "plt.text(0, max_y, f\"{max_y} kB\")"
   ]
  },
  {
   "cell_type": "code",
   "execution_count": null,
   "id": "c27d8686",
   "metadata": {},
   "outputs": [],
   "source": [
    "sample_core0(50000)"
   ]
  },
  {
   "cell_type": "code",
   "execution_count": null,
   "id": "e346ac40",
   "metadata": {},
   "outputs": [],
   "source": [
    "import matplotlib.pyplot as plt\n",
    "\n",
    "fig = plt.gcf()\n",
    "fig.set_size_inches(18.5, 3.5)\n",
    "plt.title(\"core 1 memory\")\n",
    "plt.xlabel(\"clock cycle\")\n",
    "plt.ylabel(\"kB\")\n",
    "y = sample_core1(sample_times)/(8*1024)\n",
    "plt.step(sample_times, y)\n",
    "max_y = np.max(y)\n",
    "plt.axhline(y=max_y, color='r', linestyle='--')\n",
    "plt.text(0, max_y, f\"{max_y} kB\")"
   ]
  }
 ],
 "metadata": {
  "kernelspec": {
   "display_name": "Python 3 (ipykernel)",
   "language": "python",
   "name": "python3"
  },
  "language_info": {
   "codemirror_mode": {
    "name": "ipython",
    "version": 3
   },
   "file_extension": ".py",
   "mimetype": "text/x-python",
   "name": "python",
   "nbconvert_exporter": "python",
   "pygments_lexer": "ipython3",
   "version": "3.10.12"
  }
 },
 "nbformat": 4,
 "nbformat_minor": 5
}
