{
 "cells": [
  {
   "cell_type": "code",
   "execution_count": 3,
   "id": "ead625bc",
   "metadata": {},
   "outputs": [],
   "source": [
    "from cyclic_scheduling import CyclicSchedulingProblem\n",
    "c = CyclicSchedulingProblem.from_file(\"problems/houssin.yaml\")"
   ]
  },
  {
   "cell_type": "code",
   "execution_count": 4,
   "id": "f5cf2819",
   "metadata": {},
   "outputs": [
    {
     "data": {
      "text/latex": [
       "\\begin{align}x₁(k) & \\ge & 2 + x₄&(k - 1)\\\\ x₂(k) & \\ge & 2 + x₁&(k)\\\\ x₃(k) & \\ge & 3 + x₂&(k)\\\\ x₃(k) & \\ge & 2 + x₅&(k - 1)\\\\ x₄(k) & \\ge & 3 + x₂&(k)\\\\ x₄(k) & \\ge & 2 + x₅&(k - 1)\\\\ x₅(k) & \\ge & 2 + x₁&(k + 1)\\end{align}\n"
      ],
      "text/plain": [
       "x₁(k) ≥ 2 + x₄(k - 1)\n",
       "x₂(k) ≥ 2 + x₁(k)\n",
       "x₃(k) ≥ 3 + x₂(k)\n",
       "x₃(k) ≥ 2 + x₅(k - 1)\n",
       "x₄(k) ≥ 3 + x₂(k)\n",
       "x₄(k) ≥ 2 + x₅(k - 1)\n",
       "x₅(k) ≥ 2 + x₁(k + 1)"
      ]
     },
     "execution_count": 4,
     "metadata": {},
     "output_type": "execute_result"
    }
   ],
   "source": [
    "c.system_of_inequalities()"
   ]
  },
  {
   "cell_type": "code",
   "execution_count": 7,
   "id": "64356963",
   "metadata": {},
   "outputs": [
    {
     "data": {
      "text/latex": [
       "\\begin{align}\\text{Maximize} \\quad \\tau & & \\\\\n",
       "\n",
       "u(x₁) & \\ge &  2 & \\tau  & + & u(x₄) &  - 1\\\\u(x₂) & \\ge &  2 & \\tau  & + & u(x₁) & \\\\u(x₃) & \\ge &  3 & \\tau  & + & u(x₂) & \\\\u(x₃) & \\ge &  2 & \\tau  & + & u(x₅) &  - 1\\\\u(x₄) & \\ge &  3 & \\tau  & + & u(x₂) & \\\\u(x₄) & \\ge &  2 & \\tau  & + & u(x₅) &  - 1\\\\u(x₅) & \\ge &  2 & \\tau  & + & u(x₁) &  + 1\\\\\n",
       "u(x₄) & \\ge &  2 & \\tau  & + & u(x₁) & + K(x₁,x₄)\\\\u(x₅) & \\ge &  2 & \\tau  & + & u(x₁) & + K(x₁,x₅)\\\\u(x₁) & \\ge &  2 & \\tau  & + & u(x₄) & + K(x₄,x₁)\\\\u(x₅) & \\ge &  2 & \\tau  & + & u(x₄) & + K(x₄,x₅)\\\\u(x₁) & \\ge &  2 & \\tau  & + & u(x₅) & + K(x₅,x₁)\\\\u(x₄) & \\ge &  2 & \\tau  & + & u(x₅) & + K(x₅,x₄)\\\\u(x₃) & \\ge &  3 & \\tau  & + & u(x₂) & + K(x₂,x₃)\\\\u(x₂) & \\ge &  & \\tau  & + & u(x₃) & + K(x₃,x₂)\\\\\n",
       "K(x₁,x₄) + K(x₄,x₁) & = & 1\\\\K(x₁,x₅) + K(x₅,x₁) & = & 1\\\\K(x₄,x₅) + K(x₅,x₄) & = & 1\\\\K(x₂,x₃) + K(x₃,x₂) & = & 1\\\\\n",
       "K(x₁,x₄) \\in \\mathbb{Z}\\\\K(x₁,x₅) \\in \\mathbb{Z}\\\\K(x₄,x₁) \\in \\mathbb{Z}\\\\K(x₄,x₅) \\in \\mathbb{Z}\\\\K(x₅,x₁) \\in \\mathbb{Z}\\\\K(x₅,x₄) \\in \\mathbb{Z}\\\\K(x₂,x₃) \\in \\mathbb{Z}\\\\K(x₃,x₂) \\in \\mathbb{Z}\n",
       "\n",
       "\\end{align}\n"
      ],
      "text/plain": [
       "Maximize t\n",
       "\n",
       "u(x₁) ≥ 2t + u(x₄) - 1\n",
       "u(x₂) ≥ 2t + u(x₁)\n",
       "u(x₃) ≥ 3t + u(x₂)\n",
       "u(x₃) ≥ 2t + u(x₅) - 1\n",
       "u(x₄) ≥ 3t + u(x₂)\n",
       "u(x₄) ≥ 2t + u(x₅) - 1\n",
       "u(x₅) ≥ 2t + u(x₁) + 1\n",
       "u(x₄) ≥ 2t + u(x₁) + K(x₁,x₄)\n",
       "u(x₅) ≥ 2t + u(x₁) + K(x₁,x₅)\n",
       "u(x₁) ≥ 2t + u(x₄) + K(x₄,x₁)\n",
       "u(x₅) ≥ 2t + u(x₄) + K(x₄,x₅)\n",
       "u(x₁) ≥ 2t + u(x₅) + K(x₅,x₁)\n",
       "u(x₄) ≥ 2t + u(x₅) + K(x₅,x₄)\n",
       "u(x₃) ≥ 3t + u(x₂) + K(x₂,x₃)\n",
       "u(x₂) ≥ 1t + u(x₃) + K(x₃,x₂)\n",
       "K(x₁,x₄) + K(x₄,x₁) = 1\n",
       "K(x₁,x₅) + K(x₅,x₁) = 1\n",
       "K(x₄,x₁) + K(x₁,x₄) = 1\n",
       "K(x₄,x₅) + K(x₅,x₄) = 1\n",
       "K(x₅,x₁) + K(x₁,x₅) = 1\n",
       "K(x₅,x₄) + K(x₄,x₅) = 1\n",
       "K(x₂,x₃) + K(x₃,x₂) = 1\n",
       "K(x₃,x₂) + K(x₂,x₃) = 1\n",
       "K(x₁,x₄),K(x₄,x₁),K(x₁,x₅),K(x₅,x₁),K(x₄,x₁),K(x₁,x₄),K(x₄,x₅),K(x₅,x₄),K(x₅,x₁),K(x₁,x₅),K(x₅,x₄),K(x₄,x₅),K(x₂,x₃),K(x₃,x₂),K(x₃,x₂),K(x₂,x₃) ∈ ℤ"
      ]
     },
     "execution_count": 7,
     "metadata": {},
     "output_type": "execute_result"
    }
   ],
   "source": [
    "c.mip_formulation()"
   ]
  },
  {
   "cell_type": "code",
   "execution_count": 6,
   "id": "313b79ad",
   "metadata": {},
   "outputs": [],
   "source": [
    "solution = c.solve()"
   ]
  },
  {
   "cell_type": "code",
   "execution_count": 9,
   "id": "7c01ba15",
   "metadata": {},
   "outputs": [
    {
     "data": {
      "application/vnd.jupyter.widget-view+json": {
       "model_id": "cb6932b7bb7943f2a6a26aefab005b77",
       "version_major": 2,
       "version_minor": 0
      },
      "text/plain": [
       "CyclicSchedulingPlot(data='{\"problem\": {\"actors\": [{\"name\": \"x\\\\u2081\", \"execution_time\": 2, \"processor\": \"mac…"
      ]
     },
     "execution_count": 9,
     "metadata": {},
     "output_type": "execute_result"
    }
   ],
   "source": [
    "solution.plot()"
   ]
  }
 ],
 "metadata": {
  "kernelspec": {
   "display_name": "Python 3 (ipykernel)",
   "language": "python",
   "name": "python3"
  },
  "language_info": {
   "codemirror_mode": {
    "name": "ipython",
    "version": 3
   },
   "file_extension": ".py",
   "mimetype": "text/x-python",
   "name": "python",
   "nbconvert_exporter": "python",
   "pygments_lexer": "ipython3",
   "version": "3.10.12"
  }
 },
 "nbformat": 4,
 "nbformat_minor": 5
}
